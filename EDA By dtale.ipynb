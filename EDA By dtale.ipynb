{
 "cells": [
  {
   "cell_type": "code",
   "execution_count": 8,
   "id": "dd8575e9",
   "metadata": {},
   "outputs": [],
   "source": [
    "#!pip install dtale"
   ]
  },
  {
   "cell_type": "code",
   "execution_count": 9,
   "id": "3e607935",
   "metadata": {},
   "outputs": [],
   "source": [
    "import dtale\n",
    "import pandas as pd"
   ]
  },
  {
   "cell_type": "code",
   "execution_count": 10,
   "id": "91cd3fc2",
   "metadata": {},
   "outputs": [],
   "source": [
    "df= pd.read_csv(r'C:\\Users\\w10\\OneDrive\\Desktop\\Ineuron Data\\Dataset\\data3\\google_outliers.csv')"
   ]
  },
  {
   "cell_type": "code",
   "execution_count": 11,
   "id": "a46f94df",
   "metadata": {},
   "outputs": [],
   "source": [
    "d = dtale.show(df)"
   ]
  },
  {
   "cell_type": "code",
   "execution_count": 13,
   "id": "eeb5cd1f",
   "metadata": {},
   "outputs": [
    {
     "name": "stderr",
     "output_type": "stream",
     "text": [
      "C:\\Users\\w10\\anaconda3\\lib\\site-packages\\dtale\\views.py:1929: FutureWarning:\n",
      "\n",
      "The default value of regex will change from True to False in a future version.\n",
      "\n",
      "C:\\Users\\w10\\anaconda3\\lib\\site-packages\\seaborn\\matrix.py:305: UserWarning:\n",
      "\n",
      "Attempting to set identical left == right == 0 results in singular transformations; automatically expanding.\n",
      "\n",
      "C:\\Users\\w10\\anaconda3\\lib\\site-packages\\seaborn\\matrix.py:305: UserWarning:\n",
      "\n",
      "Attempting to set identical bottom == top == 0 results in singular transformations; automatically expanding.\n",
      "\n",
      "2022-10-12 09:08:15,701 - WARNING  - findfont: Font family ['Heiti TC'] not found. Falling back to DejaVu Sans.\n",
      "2022-10-12 09:08:21,778 - WARNING  - findfont: Font family ['Heiti TC'] not found. Falling back to DejaVu Sans.\n",
      "C:\\Users\\w10\\anaconda3\\lib\\site-packages\\scipy\\cluster\\hierarchy.py:2844: UserWarning:\n",
      "\n",
      "Attempting to set identical bottom == top == 0.0 results in singular transformations; automatically expanding.\n",
      "\n",
      "2022-10-12 09:08:23,477 - WARNING  - findfont: Font family ['Heiti TC'] not found. Falling back to DejaVu Sans.\n"
     ]
    }
   ],
   "source": [
    "d.open_browser()"
   ]
  }
 ],
 "metadata": {
  "kernelspec": {
   "display_name": "Python 3 (ipykernel)",
   "language": "python",
   "name": "python3"
  },
  "language_info": {
   "codemirror_mode": {
    "name": "ipython",
    "version": 3
   },
   "file_extension": ".py",
   "mimetype": "text/x-python",
   "name": "python",
   "nbconvert_exporter": "python",
   "pygments_lexer": "ipython3",
   "version": "3.9.12"
  }
 },
 "nbformat": 4,
 "nbformat_minor": 5
}
